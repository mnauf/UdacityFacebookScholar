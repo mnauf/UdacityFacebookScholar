{
 "cells": [
  {
   "cell_type": "markdown",
   "metadata": {},
   "source": [
    "# Garbage Collection"
   ]
  },
  {
   "cell_type": "code",
   "execution_count": 1,
   "metadata": {},
   "outputs": [],
   "source": [
    "import torch as th"
   ]
  },
  {
   "cell_type": "code",
   "execution_count": 2,
   "metadata": {},
   "outputs": [],
   "source": [
    "import syft as sy"
   ]
  },
  {
   "cell_type": "code",
   "execution_count": 3,
   "metadata": {},
   "outputs": [],
   "source": [
    "hook = sy.TorchHook(th)"
   ]
  },
  {
   "cell_type": "code",
   "execution_count": 37,
   "metadata": {},
   "outputs": [],
   "source": [
    "bob = sy.VirtualWorker(hook,id=\"bob\")"
   ]
  },
  {
   "cell_type": "code",
   "execution_count": 38,
   "metadata": {},
   "outputs": [],
   "source": [
    "x = th.tensor([1,2,3,4]).send(bob)"
   ]
  },
  {
   "cell_type": "code",
   "execution_count": 39,
   "metadata": {},
   "outputs": [
    {
     "data": {
      "text/plain": [
       "{34159474489: tensor([1, 2, 3, 4])}"
      ]
     },
     "execution_count": 39,
     "metadata": {},
     "output_type": "execute_result"
    }
   ],
   "source": [
    "bob._objects"
   ]
  },
  {
   "cell_type": "code",
   "execution_count": 40,
   "metadata": {},
   "outputs": [],
   "source": [
    "del x"
   ]
  },
  {
   "cell_type": "code",
   "execution_count": 41,
   "metadata": {},
   "outputs": [
    {
     "data": {
      "text/plain": [
       "{}"
      ]
     },
     "execution_count": 41,
     "metadata": {},
     "output_type": "execute_result"
    }
   ],
   "source": [
    "bob._objects"
   ]
  },
  {
   "cell_type": "code",
   "execution_count": 42,
   "metadata": {},
   "outputs": [],
   "source": [
    "for i in range(1000):\n",
    "    x = th.tensor([1,2,3,4]).send(bob)"
   ]
  },
  {
   "cell_type": "code",
   "execution_count": 43,
   "metadata": {},
   "outputs": [
    {
     "data": {
      "text/plain": [
       "{60849088953: tensor([1, 2, 3, 4])}"
      ]
     },
     "execution_count": 43,
     "metadata": {},
     "output_type": "execute_result"
    }
   ],
   "source": [
    "bob._objects"
   ]
  },
  {
   "cell_type": "code",
   "execution_count": 44,
   "metadata": {},
   "outputs": [],
   "source": [
    "del x"
   ]
  },
  {
   "cell_type": "code",
   "execution_count": 45,
   "metadata": {},
   "outputs": [
    {
     "data": {
      "text/plain": [
       "{}"
      ]
     },
     "execution_count": 45,
     "metadata": {},
     "output_type": "execute_result"
    }
   ],
   "source": [
    "bob._objects"
   ]
  },
  {
   "cell_type": "markdown",
   "metadata": {},
   "source": [
    "# Toy Federated Learning"
   ]
  },
  {
   "cell_type": "code",
   "execution_count": 1,
   "metadata": {},
   "outputs": [],
   "source": [
    "import torch as th"
   ]
  },
  {
   "cell_type": "code",
   "execution_count": 2,
   "metadata": {},
   "outputs": [],
   "source": [
    "from torch import nn, optim"
   ]
  },
  {
   "cell_type": "code",
   "execution_count": 3,
   "metadata": {},
   "outputs": [],
   "source": [
    "data = th.tensor([[1.,1],[0,1],[1,0],[0,0]],requires_grad = True)\n",
    "target = th.tensor([[1.],[1],[0],[0]], requires_grad = True)"
   ]
  },
  {
   "cell_type": "code",
   "execution_count": 4,
   "metadata": {},
   "outputs": [],
   "source": [
    "model = nn.Sequential(nn.Linear(2,1),\n",
    "                      nn.ReLU())"
   ]
  },
  {
   "cell_type": "code",
   "execution_count": 5,
   "metadata": {},
   "outputs": [],
   "source": [
    "opt = optim.SGD(params=model.parameters(),lr=0.1)"
   ]
  },
  {
   "cell_type": "code",
   "execution_count": 6,
   "metadata": {},
   "outputs": [
    {
     "name": "stdout",
     "output_type": "stream",
     "text": [
      "tensor(2.0062)\n",
      "tensor(1.3645)\n",
      "tensor(0.9377)\n",
      "tensor(0.6495)\n",
      "tensor(0.4535)\n",
      "tensor(0.3191)\n",
      "tensor(0.2264)\n",
      "tensor(0.1618)\n",
      "tensor(0.1165)\n",
      "tensor(0.0844)\n",
      "tensor(0.0616)\n",
      "tensor(0.0452)\n",
      "tensor(0.0333)\n",
      "tensor(0.0247)\n",
      "tensor(0.0184)\n",
      "tensor(0.0138)\n",
      "tensor(0.0103)\n",
      "tensor(0.0078)\n",
      "tensor(0.0058)\n",
      "tensor(0.0044)\n",
      "tensor(0.0033)\n",
      "tensor(0.0025)\n",
      "tensor(0.0019)\n",
      "tensor(0.0015)\n",
      "tensor(0.0011)\n",
      "tensor(0.0008)\n",
      "tensor(0.0006)\n",
      "tensor(0.0005)\n",
      "tensor(0.0004)\n",
      "tensor(0.0003)\n",
      "tensor(0.0002)\n",
      "tensor(0.0002)\n",
      "tensor(0.0001)\n",
      "tensor(9.7364e-05)\n",
      "tensor(7.4385e-05)\n",
      "tensor(5.6838e-05)\n",
      "tensor(4.3436e-05)\n",
      "tensor(3.3197e-05)\n",
      "tensor(2.5374e-05)\n",
      "tensor(1.9396e-05)\n",
      "tensor(1.4827e-05)\n",
      "tensor(1.1335e-05)\n",
      "tensor(8.6654e-06)\n",
      "tensor(6.6249e-06)\n",
      "tensor(5.0652e-06)\n",
      "tensor(3.8727e-06)\n",
      "tensor(2.9610e-06)\n",
      "tensor(2.2640e-06)\n",
      "tensor(1.7311e-06)\n",
      "tensor(1.3237e-06)\n",
      "tensor(1.0122e-06)\n",
      "tensor(7.7391e-07)\n",
      "tensor(5.9179e-07)\n",
      "tensor(4.5250e-07)\n",
      "tensor(3.4599e-07)\n",
      "tensor(2.6459e-07)\n",
      "tensor(2.0231e-07)\n",
      "tensor(1.5468e-07)\n",
      "tensor(1.1829e-07)\n",
      "tensor(9.0431e-08)\n",
      "tensor(6.9166e-08)\n",
      "tensor(5.2889e-08)\n",
      "tensor(4.0437e-08)\n",
      "tensor(3.0929e-08)\n",
      "tensor(2.3657e-08)\n",
      "tensor(1.8089e-08)\n",
      "tensor(1.3832e-08)\n",
      "tensor(1.0579e-08)\n",
      "tensor(8.0920e-09)\n",
      "tensor(6.1895e-09)\n",
      "tensor(4.7320e-09)\n",
      "tensor(3.6160e-09)\n",
      "tensor(2.7656e-09)\n",
      "tensor(2.1155e-09)\n",
      "tensor(1.6200e-09)\n",
      "tensor(1.2352e-09)\n",
      "tensor(9.4579e-10)\n",
      "tensor(7.2202e-10)\n",
      "tensor(5.5393e-10)\n",
      "tensor(4.2327e-10)\n",
      "tensor(3.2223e-10)\n",
      "tensor(2.4626e-10)\n",
      "tensor(1.8882e-10)\n",
      "tensor(1.4474e-10)\n",
      "tensor(1.1106e-10)\n",
      "tensor(8.4975e-11)\n",
      "tensor(6.4560e-11)\n",
      "tensor(4.9699e-11)\n",
      "tensor(3.8014e-11)\n",
      "tensor(2.9218e-11)\n",
      "tensor(2.2176e-11)\n",
      "tensor(1.6910e-11)\n",
      "tensor(1.2687e-11)\n",
      "tensor(9.8621e-12)\n",
      "tensor(7.4732e-12)\n",
      "tensor(5.7047e-12)\n",
      "tensor(4.3759e-12)\n",
      "tensor(3.3614e-12)\n",
      "tensor(2.4837e-12)\n",
      "tensor(1.8880e-12)\n",
      "tensor(1.4603e-12)\n",
      "tensor(1.1511e-12)\n",
      "tensor(8.4688e-13)\n",
      "tensor(6.8858e-13)\n",
      "tensor(4.9203e-13)\n",
      "tensor(3.9411e-13)\n",
      "tensor(2.9618e-13)\n",
      "tensor(2.4499e-13)\n",
      "tensor(1.5558e-13)\n",
      "tensor(1.2740e-13)\n",
      "tensor(1.1520e-13)\n",
      "tensor(5.8572e-14)\n",
      "tensor(6.7116e-14)\n",
      "tensor(5.2598e-14)\n",
      "tensor(2.9431e-14)\n",
      "tensor(2.9445e-14)\n",
      "tensor(1.8721e-14)\n",
      "tensor(1.4054e-14)\n",
      "tensor(2.5844e-14)\n",
      "tensor(1.3334e-14)\n",
      "tensor(8.9286e-15)\n",
      "tensor(8.4171e-15)\n",
      "tensor(7.9370e-15)\n",
      "tensor(7.5179e-15)\n",
      "tensor(3.6150e-15)\n",
      "tensor(5.0402e-15)\n",
      "tensor(2.0923e-15)\n",
      "tensor(7.9858e-15)\n",
      "tensor(3.1985e-15)\n",
      "tensor(1.0626e-15)\n",
      "tensor(7.6336e-15)\n",
      "tensor(2.7272e-15)\n",
      "tensor(7.9690e-15)\n",
      "tensor(3.2445e-15)\n",
      "tensor(8.0524e-15)\n",
      "tensor(3.3398e-15)\n",
      "tensor(8.0470e-15)\n",
      "tensor(3.3372e-15)\n",
      "tensor(8.0249e-15)\n",
      "tensor(3.3167e-15)\n",
      "tensor(8.0029e-15)\n",
      "tensor(3.2960e-15)\n",
      "tensor(7.9842e-15)\n",
      "tensor(3.2782e-15)\n",
      "tensor(7.9687e-15)\n",
      "tensor(3.2634e-15)\n",
      "tensor(7.9561e-15)\n",
      "tensor(3.2512e-15)\n",
      "tensor(7.9457e-15)\n",
      "tensor(3.2412e-15)\n",
      "tensor(7.9371e-15)\n",
      "tensor(3.2328e-15)\n",
      "tensor(7.9300e-15)\n",
      "tensor(3.2259e-15)\n",
      "tensor(7.9241e-15)\n",
      "tensor(3.2201e-15)\n",
      "tensor(7.9192e-15)\n",
      "tensor(3.2153e-15)\n",
      "tensor(7.9150e-15)\n",
      "tensor(3.2113e-15)\n",
      "tensor(7.9116e-15)\n",
      "tensor(3.2079e-15)\n",
      "tensor(7.9087e-15)\n",
      "tensor(3.2050e-15)\n",
      "tensor(7.9062e-15)\n",
      "tensor(3.2026e-15)\n",
      "tensor(7.9042e-15)\n",
      "tensor(3.2005e-15)\n",
      "tensor(7.9024e-15)\n",
      "tensor(3.1988e-15)\n",
      "tensor(7.9010e-15)\n",
      "tensor(3.1974e-15)\n",
      "tensor(7.8997e-15)\n",
      "tensor(3.1961e-15)\n",
      "tensor(7.8987e-15)\n",
      "tensor(3.1951e-15)\n",
      "tensor(7.8978e-15)\n",
      "tensor(3.1942e-15)\n",
      "tensor(7.8970e-15)\n",
      "tensor(3.1934e-15)\n",
      "tensor(7.8964e-15)\n",
      "tensor(3.1928e-15)\n",
      "tensor(7.8958e-15)\n",
      "tensor(3.1922e-15)\n",
      "tensor(7.8953e-15)\n",
      "tensor(3.1917e-15)\n",
      "tensor(7.8949e-15)\n",
      "tensor(3.1913e-15)\n",
      "tensor(7.8946e-15)\n",
      "tensor(3.1910e-15)\n",
      "tensor(7.8943e-15)\n",
      "tensor(3.1907e-15)\n",
      "tensor(7.8941e-15)\n",
      "tensor(3.1905e-15)\n",
      "tensor(7.8939e-15)\n",
      "tensor(3.1903e-15)\n",
      "tensor(7.8937e-15)\n",
      "tensor(3.1901e-15)\n",
      "tensor(7.8935e-15)\n",
      "tensor(3.1899e-15)\n"
     ]
    }
   ],
   "source": [
    "def training(iterations):\n",
    "    for iter in range(iterations):\n",
    "        opt.zero_grad()\n",
    "        pred = model(data)\n",
    "        loss = ((pred - target)**2).sum()\n",
    "        loss.backward()\n",
    "        opt.step()\n",
    "        print(loss.data)\n",
    "training(200)"
   ]
  },
  {
   "cell_type": "code",
   "execution_count": 7,
   "metadata": {},
   "outputs": [
    {
     "data": {
      "text/plain": [
       "tensor([1., 1.], grad_fn=<SelectBackward>)"
      ]
     },
     "execution_count": 7,
     "metadata": {},
     "output_type": "execute_result"
    }
   ],
   "source": [
    "data[0]"
   ]
  },
  {
   "cell_type": "code",
   "execution_count": 12,
   "metadata": {},
   "outputs": [
    {
     "data": {
      "text/plain": [
       "tensor([2.1861e-08], grad_fn=<ReluBackward0>)"
      ]
     },
     "execution_count": 12,
     "metadata": {},
     "output_type": "execute_result"
    }
   ],
   "source": [
    "model(data[3])"
   ]
  },
  {
   "cell_type": "code",
   "execution_count": 51,
   "metadata": {},
   "outputs": [],
   "source": [
    "naufil = sy.VirtualWorker(hook, id=\"naufil\")\n",
    "faizan = sy.VirtualWorker(hook, id=\"faizan\")"
   ]
  },
  {
   "cell_type": "code",
   "execution_count": null,
   "metadata": {},
   "outputs": [],
   "source": []
  },
  {
   "cell_type": "code",
   "execution_count": 52,
   "metadata": {},
   "outputs": [],
   "source": [
    "data_naufil = data[0:2].send(naufil)\n",
    "target_naufil = target[0:2].send(naufil)"
   ]
  },
  {
   "cell_type": "code",
   "execution_count": 53,
   "metadata": {},
   "outputs": [],
   "source": [
    "data_faizan = data[2:4].send(faizan)\n",
    "target_faizan = target[2:4].send(faizan)"
   ]
  },
  {
   "cell_type": "code",
   "execution_count": 54,
   "metadata": {},
   "outputs": [],
   "source": [
    "datasets = [(data_naufil,target_naufil),(data_faizan,target_faizan)]"
   ]
  },
  {
   "cell_type": "code",
   "execution_count": 55,
   "metadata": {},
   "outputs": [],
   "source": [
    "model = nn.Linear(2,1)"
   ]
  },
  {
   "cell_type": "code",
   "execution_count": 56,
   "metadata": {},
   "outputs": [],
   "source": [
    "opt = optim.SGD(params = model.parameters(), lr = 0.1)"
   ]
  },
  {
   "cell_type": "code",
   "execution_count": 57,
   "metadata": {},
   "outputs": [],
   "source": [
    "data1, target1 = datasets[0]"
   ]
  },
  {
   "cell_type": "code",
   "execution_count": 58,
   "metadata": {},
   "outputs": [
    {
     "data": {
      "text/plain": [
       "<VirtualWorker id:naufil #tensors:6>"
      ]
     },
     "execution_count": 58,
     "metadata": {},
     "output_type": "execute_result"
    }
   ],
   "source": [
    "data1.location"
   ]
  },
  {
   "cell_type": "code",
   "execution_count": 61,
   "metadata": {},
   "outputs": [
    {
     "data": {
      "text/plain": [
       "<VirtualWorker id:naufil #tensors:7>"
      ]
     },
     "execution_count": 61,
     "metadata": {},
     "output_type": "execute_result"
    }
   ],
   "source": [
    "target1.location"
   ]
  },
  {
   "cell_type": "code",
   "execution_count": 62,
   "metadata": {},
   "outputs": [
    {
     "data": {
      "text/plain": [
       "[Parameter containing:\n",
       " tensor([[-0.0510, -0.0615]], requires_grad=True), Parameter containing:\n",
       " tensor([-0.0658], requires_grad=True)]"
      ]
     },
     "execution_count": 62,
     "metadata": {},
     "output_type": "execute_result"
    }
   ],
   "source": [
    "list(model.parameters())"
   ]
  },
  {
   "cell_type": "code",
   "execution_count": 65,
   "metadata": {},
   "outputs": [
    {
     "ename": "NameError",
     "evalue": "name 'alice_model' is not defined",
     "output_type": "error",
     "traceback": [
      "\u001b[1;31m---------------------------------------------------------------------------\u001b[0m",
      "\u001b[1;31mNameError\u001b[0m                                 Traceback (most recent call last)",
      "\u001b[1;32m<ipython-input-65-ec090ef692ec>\u001b[0m in \u001b[0;36m<module>\u001b[1;34m\u001b[0m\n\u001b[0;32m      1\u001b[0m \u001b[1;32mwith\u001b[0m \u001b[0mth\u001b[0m\u001b[1;33m.\u001b[0m\u001b[0mno_grad\u001b[0m\u001b[1;33m(\u001b[0m\u001b[1;33m)\u001b[0m\u001b[1;33m:\u001b[0m\u001b[1;33m\u001b[0m\u001b[1;33m\u001b[0m\u001b[0m\n\u001b[1;32m----> 2\u001b[1;33m    \u001b[0mmodel\u001b[0m\u001b[1;33m.\u001b[0m\u001b[0mweight\u001b[0m\u001b[1;33m.\u001b[0m\u001b[0mset_\u001b[0m\u001b[1;33m(\u001b[0m\u001b[1;33m(\u001b[0m\u001b[1;33m(\u001b[0m\u001b[0malice_model\u001b[0m\u001b[1;33m.\u001b[0m\u001b[0mweight\u001b[0m\u001b[1;33m.\u001b[0m\u001b[0mdata\u001b[0m \u001b[1;33m+\u001b[0m \u001b[0mbob_model\u001b[0m\u001b[1;33m.\u001b[0m\u001b[0mweight\u001b[0m\u001b[1;33m.\u001b[0m\u001b[0mdata\u001b[0m\u001b[1;33m)\u001b[0m \u001b[1;33m/\u001b[0m \u001b[1;36m2\u001b[0m\u001b[1;33m)\u001b[0m\u001b[1;33m.\u001b[0m\u001b[0mget\u001b[0m\u001b[1;33m(\u001b[0m\u001b[1;33m)\u001b[0m\u001b[1;33m)\u001b[0m\u001b[1;33m\u001b[0m\u001b[1;33m\u001b[0m\u001b[0m\n\u001b[0m",
      "\u001b[1;31mNameError\u001b[0m: name 'alice_model' is not defined"
     ]
    }
   ],
   "source": [
    "with th.no_grad():\n",
    "   model.weight.set_(((alice_model.weight.data + bob_model.weight.data) / 2).get())"
   ]
  },
  {
   "cell_type": "markdown",
   "metadata": {},
   "source": [
    "# Advanced Remote Execution"
   ]
  },
  {
   "cell_type": "code",
   "execution_count": 64,
   "metadata": {},
   "outputs": [
    {
     "data": {
      "text/plain": [
       "<bound method BaseWorker.clear_objects of <VirtualWorker id:faizan #tensors:2>>"
      ]
     },
     "execution_count": 64,
     "metadata": {},
     "output_type": "execute_result"
    }
   ],
   "source": [
    "naufil.clear_objects\n",
    "faizan.clear_objects"
   ]
  },
  {
   "cell_type": "code",
   "execution_count": 53,
   "metadata": {},
   "outputs": [],
   "source": [
    "x = th.tensor([1,2,3,4]).send(naufil).send(faizan)"
   ]
  },
  {
   "cell_type": "code",
   "execution_count": 54,
   "metadata": {},
   "outputs": [
    {
     "data": {
      "text/plain": [
       "(Wrapper)>[PointerTensor | me:92732758512 -> faizan:75315879446]"
      ]
     },
     "execution_count": 54,
     "metadata": {},
     "output_type": "execute_result"
    }
   ],
   "source": [
    "x"
   ]
  },
  {
   "cell_type": "code",
   "execution_count": 55,
   "metadata": {},
   "outputs": [
    {
     "data": {
      "text/plain": [
       "{23613880314: (Wrapper)>[PointerTensor | faizan:23613880314 -> naufil:83904550070],\n",
       " 47735554887: tensor([[1, 0],\n",
       "         [0, 0]]),\n",
       " 76176561640: tensor([[1, 0],\n",
       "         [0, 0]]),\n",
       " 75315879446: (Wrapper)>[PointerTensor | faizan:75315879446 -> naufil:67688684810]}"
      ]
     },
     "execution_count": 55,
     "metadata": {},
     "output_type": "execute_result"
    }
   ],
   "source": [
    "faizan._objects"
   ]
  },
  {
   "cell_type": "code",
   "execution_count": 56,
   "metadata": {},
   "outputs": [
    {
     "data": {
      "text/plain": [
       "{83904550070: tensor([1, 2, 3, 4]), 49095176888: tensor([[1, 1],\n",
       "         [0, 1]]), 36408048950: tensor([[1, 1],\n",
       "         [0, 1]]), 67688684810: tensor([1, 2, 3, 4])}"
      ]
     },
     "execution_count": 56,
     "metadata": {},
     "output_type": "execute_result"
    }
   ],
   "source": [
    "naufil._objects"
   ]
  },
  {
   "cell_type": "code",
   "execution_count": 57,
   "metadata": {},
   "outputs": [],
   "source": [
    "del x"
   ]
  },
  {
   "cell_type": "code",
   "execution_count": 58,
   "metadata": {},
   "outputs": [
    {
     "data": {
      "text/plain": [
       "{83904550070: tensor([1, 2, 3, 4]), 49095176888: tensor([[1, 1],\n",
       "         [0, 1]]), 36408048950: tensor([[1, 1],\n",
       "         [0, 1]]), 67688684810: tensor([1, 2, 3, 4])}"
      ]
     },
     "execution_count": 58,
     "metadata": {},
     "output_type": "execute_result"
    }
   ],
   "source": [
    "naufil._objects"
   ]
  },
  {
   "cell_type": "code",
   "execution_count": 59,
   "metadata": {},
   "outputs": [
    {
     "data": {
      "text/plain": [
       "{23613880314: (Wrapper)>[PointerTensor | faizan:23613880314 -> naufil:83904550070],\n",
       " 47735554887: tensor([[1, 0],\n",
       "         [0, 0]]),\n",
       " 76176561640: tensor([[1, 0],\n",
       "         [0, 0]]),\n",
       " 75315879446: (Wrapper)>[PointerTensor | faizan:75315879446 -> naufil:67688684810]}"
      ]
     },
     "execution_count": 59,
     "metadata": {},
     "output_type": "execute_result"
    }
   ],
   "source": [
    "faizan._objects"
   ]
  },
  {
   "cell_type": "code",
   "execution_count": 21,
   "metadata": {},
   "outputs": [
    {
     "ename": "NameError",
     "evalue": "name 'x' is not defined",
     "output_type": "error",
     "traceback": [
      "\u001b[1;31m---------------------------------------------------------------------------\u001b[0m",
      "\u001b[1;31mNameError\u001b[0m                                 Traceback (most recent call last)",
      "\u001b[1;32m<ipython-input-21-6fcf9dfbd479>\u001b[0m in \u001b[0;36m<module>\u001b[1;34m\u001b[0m\n\u001b[1;32m----> 1\u001b[1;33m \u001b[0mx\u001b[0m\u001b[1;33m\u001b[0m\u001b[1;33m\u001b[0m\u001b[0m\n\u001b[0m",
      "\u001b[1;31mNameError\u001b[0m: name 'x' is not defined"
     ]
    }
   ],
   "source": [
    "x"
   ]
  },
  {
   "cell_type": "code",
   "execution_count": null,
   "metadata": {},
   "outputs": [],
   "source": []
  },
  {
   "cell_type": "code",
   "execution_count": null,
   "metadata": {},
   "outputs": [],
   "source": []
  },
  {
   "cell_type": "code",
   "execution_count": null,
   "metadata": {},
   "outputs": [],
   "source": []
  }
 ],
 "metadata": {
  "kernelspec": {
   "display_name": "Python 3",
   "language": "python",
   "name": "python3"
  },
  "language_info": {
   "codemirror_mode": {
    "name": "ipython",
    "version": 3
   },
   "file_extension": ".py",
   "mimetype": "text/x-python",
   "name": "python",
   "nbconvert_exporter": "python",
   "pygments_lexer": "ipython3",
   "version": "3.7.3"
  }
 },
 "nbformat": 4,
 "nbformat_minor": 2
}
