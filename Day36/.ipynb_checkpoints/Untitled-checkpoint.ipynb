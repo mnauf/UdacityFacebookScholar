{
 "cells": [
  {
   "cell_type": "code",
   "execution_count": 1,
   "metadata": {},
   "outputs": [],
   "source": [
    "import torch as th"
   ]
  },
  {
   "cell_type": "code",
   "execution_count": 2,
   "metadata": {},
   "outputs": [],
   "source": [
    "from torch import optim,nn"
   ]
  },
  {
   "cell_type": "code",
   "execution_count": 3,
   "metadata": {},
   "outputs": [],
   "source": [
    "data = th.tensor([[1.,1],[0,1],[1,0],[0,0]],requires_grad = True)\n",
    "target = th.tensor([[1.],[1],[0],[0]],requires_grad = True)"
   ]
  },
  {
   "cell_type": "code",
   "execution_count": 4,
   "metadata": {},
   "outputs": [
    {
     "data": {
      "text/plain": [
       "<generator object Module.parameters at 0x000001E1D9707ED0>"
      ]
     },
     "execution_count": 4,
     "metadata": {},
     "output_type": "execute_result"
    }
   ],
   "source": [
    "model = nn.Linear(2,1)\n",
    "opt = optim.SGD(params=model.parameters(), lr = 0.1)\n",
    "model.parameters()"
   ]
  },
  {
   "cell_type": "code",
   "execution_count": 5,
   "metadata": {},
   "outputs": [
    {
     "name": "stdout",
     "output_type": "stream",
     "text": [
      "tensor(1.6943)\n",
      "tensor(1.5544)\n",
      "tensor(1.4502)\n",
      "tensor(0.7784)\n",
      "tensor(0.4912)\n",
      "tensor(0.3150)\n",
      "tensor(0.2026)\n",
      "tensor(0.1305)\n",
      "tensor(0.0841)\n",
      "tensor(0.0543)\n",
      "tensor(0.0351)\n",
      "tensor(0.0227)\n",
      "tensor(0.0148)\n",
      "tensor(0.0096)\n",
      "tensor(0.0063)\n",
      "tensor(0.0041)\n",
      "tensor(0.0027)\n",
      "tensor(0.0018)\n",
      "tensor(0.0012)\n",
      "tensor(0.0008)\n"
     ]
    }
   ],
   "source": [
    "def trainings(iterations):\n",
    "    for training in range(iterations):\n",
    "        opt.zero_grad()\n",
    "        pred = model(data)\n",
    "        loss = ((pred-target)**2).sum()\n",
    "        loss.backward()\n",
    "        opt.step()\n",
    "        print(loss.data)\n",
    "trainings(20)\n",
    "    "
   ]
  },
  {
   "cell_type": "code",
   "execution_count": 6,
   "metadata": {},
   "outputs": [
    {
     "data": {
      "text/plain": [
       "tensor([0.9932], grad_fn=<ReluBackward0>)"
      ]
     },
     "execution_count": 6,
     "metadata": {},
     "output_type": "execute_result"
    }
   ],
   "source": [
    "model(data[0])"
   ]
  },
  {
   "cell_type": "markdown",
   "metadata": {},
   "source": [
    "# Federated Learning"
   ]
  },
  {
   "cell_type": "code",
   "execution_count": 7,
   "metadata": {},
   "outputs": [
    {
     "name": "stderr",
     "output_type": "stream",
     "text": [
      "Keras (Tensorflow) not available.\n"
     ]
    }
   ],
   "source": [
    "import syft as sy\n",
    "hook = sy.TorchHook(th)\n",
    "naufil = sy.VirtualWorker(hook,id=\"naufil\")\n",
    "faizan = sy.VirtualWorker(hook,id=\"faizan\")"
   ]
  },
  {
   "cell_type": "code",
   "execution_count": 8,
   "metadata": {},
   "outputs": [],
   "source": [
    "data_naufil = data[0:2].send(naufil)\n",
    "target_naufil = target[0:2].send(naufil)"
   ]
  },
  {
   "cell_type": "code",
   "execution_count": 9,
   "metadata": {},
   "outputs": [
    {
     "data": {
      "text/plain": [
       "{72789927345: tensor([[1., 1.],\n",
       "         [0., 1.]], requires_grad=True), 91468311042: tensor([[1.],\n",
       "         [1.]], requires_grad=True)}"
      ]
     },
     "execution_count": 9,
     "metadata": {},
     "output_type": "execute_result"
    }
   ],
   "source": [
    "naufil._objects"
   ]
  },
  {
   "cell_type": "code",
   "execution_count": 10,
   "metadata": {},
   "outputs": [],
   "source": [
    "data_faizan = data[2:4].send(faizan)\n",
    "target_faizan = target[2:4].send(faizan)"
   ]
  },
  {
   "cell_type": "code",
   "execution_count": 11,
   "metadata": {},
   "outputs": [
    {
     "data": {
      "text/plain": [
       "{37513754719: tensor([[1., 0.],\n",
       "         [0., 0.]], requires_grad=True), 70067795340: tensor([[0.],\n",
       "         [0.]], requires_grad=True)}"
      ]
     },
     "execution_count": 11,
     "metadata": {},
     "output_type": "execute_result"
    }
   ],
   "source": [
    "faizan._objects"
   ]
  },
  {
   "cell_type": "code",
   "execution_count": 12,
   "metadata": {},
   "outputs": [],
   "source": [
    "datasets = [(data_naufil,target_naufil),(data_faizan,target_faizan)]"
   ]
  },
  {
   "cell_type": "code",
   "execution_count": 13,
   "metadata": {},
   "outputs": [
    {
     "data": {
      "text/plain": [
       "[((Wrapper)>[PointerTensor | me:29529553124 -> naufil:72789927345],\n",
       "  (Wrapper)>[PointerTensor | me:28257766207 -> naufil:91468311042]),\n",
       " ((Wrapper)>[PointerTensor | me:63911994481 -> faizan:37513754719],\n",
       "  (Wrapper)>[PointerTensor | me:56231268515 -> faizan:70067795340])]"
      ]
     },
     "execution_count": 13,
     "metadata": {},
     "output_type": "execute_result"
    }
   ],
   "source": [
    "datasets"
   ]
  },
  {
   "cell_type": "code",
   "execution_count": 14,
   "metadata": {},
   "outputs": [
    {
     "name": "stdout",
     "output_type": "stream",
     "text": [
      "tensor(0.2270, requires_grad=True)\n",
      "tensor(0.2998, requires_grad=True)\n",
      "tensor(0.1458, requires_grad=True)\n",
      "tensor(0.2219, requires_grad=True)\n",
      "tensor(0.1083, requires_grad=True)\n",
      "tensor(0.1634, requires_grad=True)\n",
      "tensor(0.0811, requires_grad=True)\n",
      "tensor(0.1206, requires_grad=True)\n",
      "tensor(0.0608, requires_grad=True)\n",
      "tensor(0.0892, requires_grad=True)\n",
      "tensor(0.0456, requires_grad=True)\n",
      "tensor(0.0661, requires_grad=True)\n",
      "tensor(0.0342, requires_grad=True)\n",
      "tensor(0.0490, requires_grad=True)\n",
      "tensor(0.0257, requires_grad=True)\n",
      "tensor(0.0364, requires_grad=True)\n",
      "tensor(0.0193, requires_grad=True)\n",
      "tensor(0.0271, requires_grad=True)\n",
      "tensor(0.0145, requires_grad=True)\n",
      "tensor(0.0202, requires_grad=True)\n",
      "tensor(0.0109, requires_grad=True)\n",
      "tensor(0.0151, requires_grad=True)\n",
      "tensor(0.0082, requires_grad=True)\n",
      "tensor(0.0112, requires_grad=True)\n",
      "tensor(0.0061, requires_grad=True)\n",
      "tensor(0.0084, requires_grad=True)\n",
      "tensor(0.0046, requires_grad=True)\n",
      "tensor(0.0063, requires_grad=True)\n",
      "tensor(0.0034, requires_grad=True)\n",
      "tensor(0.0047, requires_grad=True)\n",
      "tensor(0.0026, requires_grad=True)\n",
      "tensor(0.0035, requires_grad=True)\n",
      "tensor(0.0019, requires_grad=True)\n",
      "tensor(0.0026, requires_grad=True)\n",
      "tensor(0.0015, requires_grad=True)\n",
      "tensor(0.0020, requires_grad=True)\n",
      "tensor(0.0011, requires_grad=True)\n",
      "tensor(0.0015, requires_grad=True)\n",
      "tensor(0.0008, requires_grad=True)\n",
      "tensor(0.0011, requires_grad=True)\n"
     ]
    }
   ],
   "source": [
    "def trainings(iterations=20):\n",
    "    model = nn.Linear(2,1)\n",
    "    opt = optim.SGD(params = model.parameters(),lr = 0.1)\n",
    "    for i in range(iterations):\n",
    "        for _data,_target in datasets:\n",
    "            model = model.send(_data.location)\n",
    "            opt.zero_grad()\n",
    "            pred = model(_data)\n",
    "            loss = ((pred - _target)**2).sum()\n",
    "            loss.backward()\n",
    "            opt.step()\n",
    "            \n",
    "            model = model.get()\n",
    "            \n",
    "            print(loss.get())\n",
    "            \n",
    "trainings(20)    "
   ]
  },
  {
   "cell_type": "code",
   "execution_count": null,
   "metadata": {},
   "outputs": [],
   "source": []
  }
 ],
 "metadata": {
  "kernelspec": {
   "display_name": "Python 3",
   "language": "python",
   "name": "python3"
  },
  "language_info": {
   "codemirror_mode": {
    "name": "ipython",
    "version": 3
   },
   "file_extension": ".py",
   "mimetype": "text/x-python",
   "name": "python",
   "nbconvert_exporter": "python",
   "pygments_lexer": "ipython3",
   "version": "3.7.3"
  }
 },
 "nbformat": 4,
 "nbformat_minor": 2
}
