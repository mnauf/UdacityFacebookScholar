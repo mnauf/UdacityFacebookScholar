{
 "cells": [
  {
   "cell_type": "code",
   "execution_count": 1,
   "metadata": {},
   "outputs": [],
   "source": [
    "import torch as th"
   ]
  },
  {
   "cell_type": "code",
   "execution_count": 2,
   "metadata": {},
   "outputs": [],
   "source": [
    "from torch import optim,nn"
   ]
  },
  {
   "cell_type": "code",
   "execution_count": 3,
   "metadata": {},
   "outputs": [],
   "source": [
    "data = th.tensor([[1.,1],[0,1],[1,0],[0,0]],requires_grad = True)\n",
    "target = th.tensor([[1.],[1],[0],[0]],requires_grad = True)"
   ]
  },
  {
   "cell_type": "code",
   "execution_count": 4,
   "metadata": {},
   "outputs": [
    {
     "data": {
      "text/plain": [
       "<generator object Module.parameters at 0x000001840233AED0>"
      ]
     },
     "execution_count": 4,
     "metadata": {},
     "output_type": "execute_result"
    }
   ],
   "source": [
    "model = nn.Linear(2,1)\n",
    "opt = optim.SGD(params=model.parameters(), lr = 0.1)\n",
    "model.parameters()"
   ]
  },
  {
   "cell_type": "code",
   "execution_count": 5,
   "metadata": {},
   "outputs": [
    {
     "name": "stdout",
     "output_type": "stream",
     "text": [
      "tensor(0.5374)\n",
      "tensor(0.3690)\n",
      "tensor(0.2788)\n",
      "tensor(0.2129)\n",
      "tensor(0.1627)\n",
      "tensor(0.1243)\n",
      "tensor(0.0950)\n",
      "tensor(0.0727)\n",
      "tensor(0.0555)\n",
      "tensor(0.0425)\n",
      "tensor(0.0325)\n",
      "tensor(0.0248)\n",
      "tensor(0.0190)\n",
      "tensor(0.0145)\n",
      "tensor(0.0111)\n",
      "tensor(0.0085)\n",
      "tensor(0.0065)\n",
      "tensor(0.0050)\n",
      "tensor(0.0038)\n",
      "tensor(0.0029)\n"
     ]
    }
   ],
   "source": [
    "def trainings(iterations):\n",
    "    for training in range(iterations):\n",
    "        opt.zero_grad()\n",
    "        pred = model(data)\n",
    "        loss = ((pred-target)**2).sum()\n",
    "        loss.backward()\n",
    "        opt.step()\n",
    "        print(loss.data)\n",
    "trainings(20)\n",
    "    "
   ]
  },
  {
   "cell_type": "code",
   "execution_count": 6,
   "metadata": {},
   "outputs": [
    {
     "data": {
      "text/plain": [
       "tensor([0.9738], grad_fn=<AddBackward0>)"
      ]
     },
     "execution_count": 6,
     "metadata": {},
     "output_type": "execute_result"
    }
   ],
   "source": [
    "model(data[0])"
   ]
  },
  {
   "cell_type": "markdown",
   "metadata": {},
   "source": [
    "# Federated Learning"
   ]
  },
  {
   "cell_type": "code",
   "execution_count": 7,
   "metadata": {},
   "outputs": [
    {
     "name": "stderr",
     "output_type": "stream",
     "text": [
      "Keras (Tensorflow) not available.\n"
     ]
    }
   ],
   "source": [
    "import syft as sy\n",
    "hook = sy.TorchHook(th)\n",
    "naufil = sy.VirtualWorker(hook,id=\"naufil\")\n",
    "faizan = sy.VirtualWorker(hook,id=\"faizan\")"
   ]
  },
  {
   "cell_type": "code",
   "execution_count": 8,
   "metadata": {},
   "outputs": [],
   "source": [
    "data_naufil = data[0:2].send(naufil)\n",
    "target_naufil = target[0:2].send(naufil)"
   ]
  },
  {
   "cell_type": "code",
   "execution_count": 9,
   "metadata": {},
   "outputs": [
    {
     "data": {
      "text/plain": [
       "{73130792627: tensor([[1., 1.],\n",
       "         [0., 1.]], requires_grad=True), 83807204976: tensor([[1.],\n",
       "         [1.]], requires_grad=True)}"
      ]
     },
     "execution_count": 9,
     "metadata": {},
     "output_type": "execute_result"
    }
   ],
   "source": [
    "naufil._objects"
   ]
  },
  {
   "cell_type": "code",
   "execution_count": 10,
   "metadata": {},
   "outputs": [],
   "source": [
    "data_faizan = data[2:4].send(faizan)\n",
    "target_faizan = target[2:4].send(faizan)"
   ]
  },
  {
   "cell_type": "code",
   "execution_count": 11,
   "metadata": {},
   "outputs": [
    {
     "data": {
      "text/plain": [
       "{25242060783: tensor([[1., 0.],\n",
       "         [0., 0.]], requires_grad=True), 3805664151: tensor([[0.],\n",
       "         [0.]], requires_grad=True)}"
      ]
     },
     "execution_count": 11,
     "metadata": {},
     "output_type": "execute_result"
    }
   ],
   "source": [
    "faizan._objects"
   ]
  },
  {
   "cell_type": "code",
   "execution_count": 12,
   "metadata": {},
   "outputs": [],
   "source": [
    "datasets = [(data_naufil,target_naufil),(data_faizan,target_faizan)]"
   ]
  },
  {
   "cell_type": "code",
   "execution_count": 13,
   "metadata": {},
   "outputs": [
    {
     "data": {
      "text/plain": [
       "[((Wrapper)>[PointerTensor | me:42007985342 -> naufil:73130792627],\n",
       "  (Wrapper)>[PointerTensor | me:82227322542 -> naufil:83807204976]),\n",
       " ((Wrapper)>[PointerTensor | me:19621806101 -> faizan:25242060783],\n",
       "  (Wrapper)>[PointerTensor | me:54864530328 -> faizan:3805664151])]"
      ]
     },
     "execution_count": 13,
     "metadata": {},
     "output_type": "execute_result"
    }
   ],
   "source": [
    "datasets"
   ]
  },
  {
   "cell_type": "code",
   "execution_count": 14,
   "metadata": {},
   "outputs": [
    {
     "name": "stdout",
     "output_type": "stream",
     "text": [
      "tensor(0.2672, requires_grad=True)\n",
      "tensor(0.5164, requires_grad=True)\n",
      "tensor(0.2304, requires_grad=True)\n",
      "tensor(0.3727, requires_grad=True)\n",
      "tensor(0.1735, requires_grad=True)\n",
      "tensor(0.2723, requires_grad=True)\n",
      "tensor(0.1298, requires_grad=True)\n",
      "tensor(0.1998, requires_grad=True)\n",
      "tensor(0.0972, requires_grad=True)\n",
      "tensor(0.1470, requires_grad=True)\n",
      "tensor(0.0729, requires_grad=True)\n",
      "tensor(0.1085, requires_grad=True)\n",
      "tensor(0.0546, requires_grad=True)\n",
      "tensor(0.0802, requires_grad=True)\n",
      "tensor(0.0410, requires_grad=True)\n",
      "tensor(0.0594, requires_grad=True)\n",
      "tensor(0.0308, requires_grad=True)\n",
      "tensor(0.0441, requires_grad=True)\n",
      "tensor(0.0231, requires_grad=True)\n",
      "tensor(0.0328, requires_grad=True)\n",
      "tensor(0.0173, requires_grad=True)\n",
      "tensor(0.0244, requires_grad=True)\n",
      "tensor(0.0130, requires_grad=True)\n",
      "tensor(0.0182, requires_grad=True)\n",
      "tensor(0.0098, requires_grad=True)\n",
      "tensor(0.0135, requires_grad=True)\n",
      "tensor(0.0073, requires_grad=True)\n",
      "tensor(0.0101, requires_grad=True)\n",
      "tensor(0.0055, requires_grad=True)\n",
      "tensor(0.0075, requires_grad=True)\n",
      "tensor(0.0041, requires_grad=True)\n",
      "tensor(0.0056, requires_grad=True)\n",
      "tensor(0.0031, requires_grad=True)\n",
      "tensor(0.0042, requires_grad=True)\n",
      "tensor(0.0023, requires_grad=True)\n",
      "tensor(0.0031, requires_grad=True)\n",
      "tensor(0.0017, requires_grad=True)\n",
      "tensor(0.0023, requires_grad=True)\n",
      "tensor(0.0013, requires_grad=True)\n",
      "tensor(0.0018, requires_grad=True)\n"
     ]
    }
   ],
   "source": [
    "def trainings(iterations=20):\n",
    "    model = nn.Linear(2,1)\n",
    "    opt = optim.SGD(params = model.parameters(),lr = 0.1)\n",
    "    for i in range(iterations):\n",
    "        for _data,_target in datasets:\n",
    "            model = model.send(_data.location)\n",
    "            opt.zero_grad()\n",
    "            pred = model(_data)\n",
    "            loss = ((pred - _target)**2).sum()\n",
    "            loss.backward()\n",
    "            opt.step()\n",
    "            \n",
    "            model = model.get()\n",
    "            \n",
    "            print(loss.get())\n",
    "            \n",
    "trainings(20)    "
   ]
  },
  {
   "cell_type": "code",
   "execution_count": null,
   "metadata": {},
   "outputs": [],
   "source": []
  }
 ],
 "metadata": {
  "kernelspec": {
   "display_name": "Python 3",
   "language": "python",
   "name": "python3"
  },
  "language_info": {
   "codemirror_mode": {
    "name": "ipython",
    "version": 3
   },
   "file_extension": ".py",
   "mimetype": "text/x-python",
   "name": "python",
   "nbconvert_exporter": "python",
   "pygments_lexer": "ipython3",
   "version": "3.7.3"
  }
 },
 "nbformat": 4,
 "nbformat_minor": 2
}
